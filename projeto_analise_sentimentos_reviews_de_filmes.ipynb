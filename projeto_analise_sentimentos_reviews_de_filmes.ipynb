{
  "nbformat": 4,
  "nbformat_minor": 0,
  "metadata": {
    "colab": {
      "name": "projeto analise-sentimentos - reviews de filmes.ipynb",
      "provenance": [],
      "collapsed_sections": [],
      "include_colab_link": true
    },
    "kernelspec": {
      "name": "python3",
      "display_name": "Python 3"
    },
    "language_info": {
      "name": "python"
    },
    "accelerator": "GPU",
    "gpuClass": "standard",
    "widgets": {
      "application/vnd.jupyter.widget-state+json": {
        "06b4ab51f73f4996951fd005560cdb97": {
          "model_module": "@jupyter-widgets/controls",
          "model_name": "HBoxModel",
          "model_module_version": "1.5.0",
          "state": {
            "_dom_classes": [],
            "_model_module": "@jupyter-widgets/controls",
            "_model_module_version": "1.5.0",
            "_model_name": "HBoxModel",
            "_view_count": null,
            "_view_module": "@jupyter-widgets/controls",
            "_view_module_version": "1.5.0",
            "_view_name": "HBoxView",
            "box_style": "",
            "children": [
              "IPY_MODEL_e24cdb8155644fab95885e0ba8ac590e",
              "IPY_MODEL_e8d131a262e64e9d9fae2eb2bb5bd284",
              "IPY_MODEL_789993b912b04eb3a4ccc24b464bdaca"
            ],
            "layout": "IPY_MODEL_3ed6db130ecd4d83874a4d19dbd9fafe"
          }
        },
        "e24cdb8155644fab95885e0ba8ac590e": {
          "model_module": "@jupyter-widgets/controls",
          "model_name": "HTMLModel",
          "model_module_version": "1.5.0",
          "state": {
            "_dom_classes": [],
            "_model_module": "@jupyter-widgets/controls",
            "_model_module_version": "1.5.0",
            "_model_name": "HTMLModel",
            "_view_count": null,
            "_view_module": "@jupyter-widgets/controls",
            "_view_module_version": "1.5.0",
            "_view_name": "HTMLView",
            "description": "",
            "description_tooltip": null,
            "layout": "IPY_MODEL_938ef9979af44cee9eaea8bbc9dc5984",
            "placeholder": "​",
            "style": "IPY_MODEL_a32d534ebc0e46209e4ec8d873f5ff92",
            "value": "100%"
          }
        },
        "e8d131a262e64e9d9fae2eb2bb5bd284": {
          "model_module": "@jupyter-widgets/controls",
          "model_name": "FloatProgressModel",
          "model_module_version": "1.5.0",
          "state": {
            "_dom_classes": [],
            "_model_module": "@jupyter-widgets/controls",
            "_model_module_version": "1.5.0",
            "_model_name": "FloatProgressModel",
            "_view_count": null,
            "_view_module": "@jupyter-widgets/controls",
            "_view_module_version": "1.5.0",
            "_view_name": "ProgressView",
            "bar_style": "success",
            "description": "",
            "description_tooltip": null,
            "layout": "IPY_MODEL_23acd699ad434963bf7a8af7e321d3f9",
            "max": 3,
            "min": 0,
            "orientation": "horizontal",
            "style": "IPY_MODEL_bb5a0c444e85462a99563d6029051a33",
            "value": 3
          }
        },
        "789993b912b04eb3a4ccc24b464bdaca": {
          "model_module": "@jupyter-widgets/controls",
          "model_name": "HTMLModel",
          "model_module_version": "1.5.0",
          "state": {
            "_dom_classes": [],
            "_model_module": "@jupyter-widgets/controls",
            "_model_module_version": "1.5.0",
            "_model_name": "HTMLModel",
            "_view_count": null,
            "_view_module": "@jupyter-widgets/controls",
            "_view_module_version": "1.5.0",
            "_view_name": "HTMLView",
            "description": "",
            "description_tooltip": null,
            "layout": "IPY_MODEL_30b21449665049a280f470b33728386d",
            "placeholder": "​",
            "style": "IPY_MODEL_7d7bd6aa2f1444288439cfee7eeab0b8",
            "value": " 3/3 [00:00&lt;00:00, 71.97it/s]"
          }
        },
        "3ed6db130ecd4d83874a4d19dbd9fafe": {
          "model_module": "@jupyter-widgets/base",
          "model_name": "LayoutModel",
          "model_module_version": "1.2.0",
          "state": {
            "_model_module": "@jupyter-widgets/base",
            "_model_module_version": "1.2.0",
            "_model_name": "LayoutModel",
            "_view_count": null,
            "_view_module": "@jupyter-widgets/base",
            "_view_module_version": "1.2.0",
            "_view_name": "LayoutView",
            "align_content": null,
            "align_items": null,
            "align_self": null,
            "border": null,
            "bottom": null,
            "display": null,
            "flex": null,
            "flex_flow": null,
            "grid_area": null,
            "grid_auto_columns": null,
            "grid_auto_flow": null,
            "grid_auto_rows": null,
            "grid_column": null,
            "grid_gap": null,
            "grid_row": null,
            "grid_template_areas": null,
            "grid_template_columns": null,
            "grid_template_rows": null,
            "height": null,
            "justify_content": null,
            "justify_items": null,
            "left": null,
            "margin": null,
            "max_height": null,
            "max_width": null,
            "min_height": null,
            "min_width": null,
            "object_fit": null,
            "object_position": null,
            "order": null,
            "overflow": null,
            "overflow_x": null,
            "overflow_y": null,
            "padding": null,
            "right": null,
            "top": null,
            "visibility": null,
            "width": null
          }
        },
        "938ef9979af44cee9eaea8bbc9dc5984": {
          "model_module": "@jupyter-widgets/base",
          "model_name": "LayoutModel",
          "model_module_version": "1.2.0",
          "state": {
            "_model_module": "@jupyter-widgets/base",
            "_model_module_version": "1.2.0",
            "_model_name": "LayoutModel",
            "_view_count": null,
            "_view_module": "@jupyter-widgets/base",
            "_view_module_version": "1.2.0",
            "_view_name": "LayoutView",
            "align_content": null,
            "align_items": null,
            "align_self": null,
            "border": null,
            "bottom": null,
            "display": null,
            "flex": null,
            "flex_flow": null,
            "grid_area": null,
            "grid_auto_columns": null,
            "grid_auto_flow": null,
            "grid_auto_rows": null,
            "grid_column": null,
            "grid_gap": null,
            "grid_row": null,
            "grid_template_areas": null,
            "grid_template_columns": null,
            "grid_template_rows": null,
            "height": null,
            "justify_content": null,
            "justify_items": null,
            "left": null,
            "margin": null,
            "max_height": null,
            "max_width": null,
            "min_height": null,
            "min_width": null,
            "object_fit": null,
            "object_position": null,
            "order": null,
            "overflow": null,
            "overflow_x": null,
            "overflow_y": null,
            "padding": null,
            "right": null,
            "top": null,
            "visibility": null,
            "width": null
          }
        },
        "a32d534ebc0e46209e4ec8d873f5ff92": {
          "model_module": "@jupyter-widgets/controls",
          "model_name": "DescriptionStyleModel",
          "model_module_version": "1.5.0",
          "state": {
            "_model_module": "@jupyter-widgets/controls",
            "_model_module_version": "1.5.0",
            "_model_name": "DescriptionStyleModel",
            "_view_count": null,
            "_view_module": "@jupyter-widgets/base",
            "_view_module_version": "1.2.0",
            "_view_name": "StyleView",
            "description_width": ""
          }
        },
        "23acd699ad434963bf7a8af7e321d3f9": {
          "model_module": "@jupyter-widgets/base",
          "model_name": "LayoutModel",
          "model_module_version": "1.2.0",
          "state": {
            "_model_module": "@jupyter-widgets/base",
            "_model_module_version": "1.2.0",
            "_model_name": "LayoutModel",
            "_view_count": null,
            "_view_module": "@jupyter-widgets/base",
            "_view_module_version": "1.2.0",
            "_view_name": "LayoutView",
            "align_content": null,
            "align_items": null,
            "align_self": null,
            "border": null,
            "bottom": null,
            "display": null,
            "flex": null,
            "flex_flow": null,
            "grid_area": null,
            "grid_auto_columns": null,
            "grid_auto_flow": null,
            "grid_auto_rows": null,
            "grid_column": null,
            "grid_gap": null,
            "grid_row": null,
            "grid_template_areas": null,
            "grid_template_columns": null,
            "grid_template_rows": null,
            "height": null,
            "justify_content": null,
            "justify_items": null,
            "left": null,
            "margin": null,
            "max_height": null,
            "max_width": null,
            "min_height": null,
            "min_width": null,
            "object_fit": null,
            "object_position": null,
            "order": null,
            "overflow": null,
            "overflow_x": null,
            "overflow_y": null,
            "padding": null,
            "right": null,
            "top": null,
            "visibility": null,
            "width": null
          }
        },
        "bb5a0c444e85462a99563d6029051a33": {
          "model_module": "@jupyter-widgets/controls",
          "model_name": "ProgressStyleModel",
          "model_module_version": "1.5.0",
          "state": {
            "_model_module": "@jupyter-widgets/controls",
            "_model_module_version": "1.5.0",
            "_model_name": "ProgressStyleModel",
            "_view_count": null,
            "_view_module": "@jupyter-widgets/base",
            "_view_module_version": "1.2.0",
            "_view_name": "StyleView",
            "bar_color": null,
            "description_width": ""
          }
        },
        "30b21449665049a280f470b33728386d": {
          "model_module": "@jupyter-widgets/base",
          "model_name": "LayoutModel",
          "model_module_version": "1.2.0",
          "state": {
            "_model_module": "@jupyter-widgets/base",
            "_model_module_version": "1.2.0",
            "_model_name": "LayoutModel",
            "_view_count": null,
            "_view_module": "@jupyter-widgets/base",
            "_view_module_version": "1.2.0",
            "_view_name": "LayoutView",
            "align_content": null,
            "align_items": null,
            "align_self": null,
            "border": null,
            "bottom": null,
            "display": null,
            "flex": null,
            "flex_flow": null,
            "grid_area": null,
            "grid_auto_columns": null,
            "grid_auto_flow": null,
            "grid_auto_rows": null,
            "grid_column": null,
            "grid_gap": null,
            "grid_row": null,
            "grid_template_areas": null,
            "grid_template_columns": null,
            "grid_template_rows": null,
            "height": null,
            "justify_content": null,
            "justify_items": null,
            "left": null,
            "margin": null,
            "max_height": null,
            "max_width": null,
            "min_height": null,
            "min_width": null,
            "object_fit": null,
            "object_position": null,
            "order": null,
            "overflow": null,
            "overflow_x": null,
            "overflow_y": null,
            "padding": null,
            "right": null,
            "top": null,
            "visibility": null,
            "width": null
          }
        },
        "7d7bd6aa2f1444288439cfee7eeab0b8": {
          "model_module": "@jupyter-widgets/controls",
          "model_name": "DescriptionStyleModel",
          "model_module_version": "1.5.0",
          "state": {
            "_model_module": "@jupyter-widgets/controls",
            "_model_module_version": "1.5.0",
            "_model_name": "DescriptionStyleModel",
            "_view_count": null,
            "_view_module": "@jupyter-widgets/base",
            "_view_module_version": "1.2.0",
            "_view_name": "StyleView",
            "description_width": ""
          }
        }
      }
    }
  },
  "cells": [
    {
      "cell_type": "markdown",
      "metadata": {
        "id": "view-in-github",
        "colab_type": "text"
      },
      "source": [
        "<a href=\"https://colab.research.google.com/github/EliseuODaniel/Analise-de-Sentimentos/blob/main/projeto_analise_sentimentos_reviews_de_filmes.ipynb\" target=\"_parent\"><img src=\"https://colab.research.google.com/assets/colab-badge.svg\" alt=\"Open In Colab\"/></a>"
      ]
    },
    {
      "cell_type": "code",
      "metadata": {
        "id": "n9XheQKQsNWT",
        "outputId": "7a6baead-9a93-4c2a-dbdc-1bf0d78486cd",
        "colab": {
          "base_uri": "https://localhost:8080/"
        }
      },
      "source": [
        "!pip install folium\n",
        "# transformers > modelos do site do hugging face\n",
        "# datasets > biblioteca que disponibiliza os datasets do hugging face\n",
        "!pip install transformers datasets 1> null\n"
      ],
      "execution_count": 28,
      "outputs": [
        {
          "output_type": "stream",
          "name": "stdout",
          "text": [
            "Looking in indexes: https://pypi.org/simple, https://us-python.pkg.dev/colab-wheels/public/simple/\n",
            "Requirement already satisfied: folium in /usr/local/lib/python3.7/dist-packages (0.8.3)\n",
            "Requirement already satisfied: six in /usr/local/lib/python3.7/dist-packages (from folium) (1.15.0)\n",
            "Requirement already satisfied: branca>=0.3.0 in /usr/local/lib/python3.7/dist-packages (from folium) (0.5.0)\n",
            "Requirement already satisfied: jinja2 in /usr/local/lib/python3.7/dist-packages (from folium) (2.11.3)\n",
            "Requirement already satisfied: requests in /usr/local/lib/python3.7/dist-packages (from folium) (2.23.0)\n",
            "Requirement already satisfied: numpy in /usr/local/lib/python3.7/dist-packages (from folium) (1.21.6)\n",
            "Requirement already satisfied: MarkupSafe>=0.23 in /usr/local/lib/python3.7/dist-packages (from jinja2->folium) (2.0.1)\n",
            "Requirement already satisfied: urllib3!=1.25.0,!=1.25.1,<1.26,>=1.21.1 in /usr/local/lib/python3.7/dist-packages (from requests->folium) (1.25.11)\n",
            "Requirement already satisfied: idna<3,>=2.5 in /usr/local/lib/python3.7/dist-packages (from requests->folium) (2.10)\n",
            "Requirement already satisfied: chardet<4,>=3.0.2 in /usr/local/lib/python3.7/dist-packages (from requests->folium) (3.0.4)\n",
            "Requirement already satisfied: certifi>=2017.4.17 in /usr/local/lib/python3.7/dist-packages (from requests->folium) (2022.6.15)\n"
          ]
        }
      ]
    },
    {
      "cell_type": "code",
      "metadata": {
        "id": "HXCheLhStA5i"
      },
      "source": [
        "import transformers\n",
        "import datasets\n",
        "import torch"
      ],
      "execution_count": 29,
      "outputs": []
    },
    {
      "cell_type": "code",
      "source": [
        "# seleciona a gpu pra ser usada ao invés da cpu"
      ],
      "metadata": {
        "id": "2-DAyVIYygBh"
      },
      "execution_count": 30,
      "outputs": []
    },
    {
      "cell_type": "code",
      "metadata": {
        "colab": {
          "base_uri": "https://localhost:8080/"
        },
        "id": "PbpVbj3g8tQW",
        "outputId": "3cd6f5d0-171b-479c-ad3e-fd643446f8fb"
      },
      "source": [
        "device = 'cuda' if torch.cuda.is_available() else 'cpu'\n",
        "print(f\"Usando: {device}\")"
      ],
      "execution_count": 31,
      "outputs": [
        {
          "output_type": "stream",
          "name": "stdout",
          "text": [
            "Usando: cuda\n"
          ]
        }
      ]
    },
    {
      "cell_type": "markdown",
      "metadata": {
        "id": "2aP7Zk47uZpK"
      },
      "source": [
        "## Carregando Dataset\n",
        "\n",
        "Carrega dataset com dados de reviews de filmes e labels já prontas. Já dividido em dados de treino, validação e teste"
      ]
    },
    {
      "cell_type": "code",
      "metadata": {
        "colab": {
          "base_uri": "https://localhost:8080/",
          "height": 84,
          "referenced_widgets": [
            "06b4ab51f73f4996951fd005560cdb97",
            "e24cdb8155644fab95885e0ba8ac590e",
            "e8d131a262e64e9d9fae2eb2bb5bd284",
            "789993b912b04eb3a4ccc24b464bdaca",
            "3ed6db130ecd4d83874a4d19dbd9fafe",
            "938ef9979af44cee9eaea8bbc9dc5984",
            "a32d534ebc0e46209e4ec8d873f5ff92",
            "23acd699ad434963bf7a8af7e321d3f9",
            "bb5a0c444e85462a99563d6029051a33",
            "30b21449665049a280f470b33728386d",
            "7d7bd6aa2f1444288439cfee7eeab0b8"
          ]
        },
        "id": "nuAIXDqFtPia",
        "outputId": "f5881b37-c1a9-4396-8590-c94550eed3f4"
      },
      "source": [
        "dataset = datasets.load_dataset(\"sst2\")"
      ],
      "execution_count": 32,
      "outputs": [
        {
          "output_type": "stream",
          "name": "stderr",
          "text": [
            "Using custom data configuration default\n",
            "Reusing dataset sst2 (/root/.cache/huggingface/datasets/sst2/default/2.0.0/9896208a8d85db057ac50c72282bcb8fe755accc671a57dd8059d4e130961ed5)\n"
          ]
        },
        {
          "output_type": "display_data",
          "data": {
            "text/plain": [
              "  0%|          | 0/3 [00:00<?, ?it/s]"
            ],
            "application/vnd.jupyter.widget-view+json": {
              "version_major": 2,
              "version_minor": 0,
              "model_id": "06b4ab51f73f4996951fd005560cdb97"
            }
          },
          "metadata": {}
        }
      ]
    },
    {
      "cell_type": "code",
      "source": [
        "#vendo conteúdo do dataset\n",
        "dataset['train']['sentence'][1]\n"
      ],
      "metadata": {
        "colab": {
          "base_uri": "https://localhost:8080/",
          "height": 35
        },
        "id": "2tyZP74h1Gke",
        "outputId": "c020c1b9-adce-4c26-dc9e-304c546ed952"
      },
      "execution_count": 33,
      "outputs": [
        {
          "output_type": "execute_result",
          "data": {
            "text/plain": [
              "'contains no wit , only labored gags '"
            ],
            "application/vnd.google.colaboratory.intrinsic+json": {
              "type": "string"
            }
          },
          "metadata": {},
          "execution_count": 33
        }
      ]
    },
    {
      "cell_type": "code",
      "source": [
        "dataset['train']['label'][1]"
      ],
      "metadata": {
        "colab": {
          "base_uri": "https://localhost:8080/"
        },
        "id": "2_4UBl_t2RnK",
        "outputId": "f5ab1fd0-3a3a-4ad0-af23-22d1e423744e"
      },
      "execution_count": 34,
      "outputs": [
        {
          "output_type": "execute_result",
          "data": {
            "text/plain": [
              "0"
            ]
          },
          "metadata": {},
          "execution_count": 34
        }
      ]
    },
    {
      "cell_type": "markdown",
      "source": [
        "### separando dados entre treino, validação e teste"
      ],
      "metadata": {
        "id": "0x60rq1V1Tgw"
      }
    },
    {
      "cell_type": "code",
      "metadata": {
        "id": "faV2Ij5GtSEW"
      },
      "source": [
        "#limita a quantidade de frases pra 64\n",
        "filter_size = 64\n",
        "\n",
        "#dados fornecidos no formato lista de sentenças e labels\n",
        "\n",
        "X_train_original, y_train = dataset['train']['sentence'][:filter_size],      dataset['train']['label'][:filter_size]\n",
        "X_val_original, y_val     = dataset['validation']['sentence'][:filter_size], dataset['validation']['label'][:filter_size]\n",
        "X_test_original, y_test   = dataset['test']['sentence'][:filter_size],       dataset['test']['label'][:filter_size]"
      ],
      "execution_count": 35,
      "outputs": []
    },
    {
      "cell_type": "markdown",
      "metadata": {
        "id": "awuBxXcwupgD"
      },
      "source": [
        "## Carregando Modelo Pretreinado e Tokenizador"
      ]
    },
    {
      "cell_type": "code",
      "metadata": {
        "id": "Pp8HMlOwure4",
        "outputId": "d080d9d9-00fc-4822-82f1-d2deb11d2b54",
        "colab": {
          "base_uri": "https://localhost:8080/"
        }
      },
      "source": [
        "#carrega o modelo pré treinado distilbert (bert de tamanho reduzido)\n",
        "pretrained_model = transformers.AutoModel.from_pretrained('distilbert-base-uncased-finetuned-sst-2-english')\n",
        "#carrega o tokenizer, que transforma as palavras em vetores\n",
        "tokenizer = transformers.AutoTokenizer.from_pretrained('distilbert-base-uncased-finetuned-sst-2-english')"
      ],
      "execution_count": 36,
      "outputs": [
        {
          "output_type": "stream",
          "name": "stderr",
          "text": [
            "Some weights of the model checkpoint at distilbert-base-uncased-finetuned-sst-2-english were not used when initializing DistilBertModel: ['classifier.weight', 'pre_classifier.weight', 'pre_classifier.bias', 'classifier.bias']\n",
            "- This IS expected if you are initializing DistilBertModel from the checkpoint of a model trained on another task or with another architecture (e.g. initializing a BertForSequenceClassification model from a BertForPreTraining model).\n",
            "- This IS NOT expected if you are initializing DistilBertModel from the checkpoint of a model that you expect to be exactly identical (initializing a BertForSequenceClassification model from a BertForSequenceClassification model).\n"
          ]
        }
      ]
    },
    {
      "cell_type": "code",
      "source": [
        "#exemplo do tokenizer em funcionamento\n",
        "#inputs = tokenizer(X_train_original, padding = 'max_length', truncation = True, return_tensors='pt')\n",
        "#inputs\n"
      ],
      "metadata": {
        "id": "0R7SHCTr4df2"
      },
      "execution_count": 37,
      "outputs": []
    },
    {
      "cell_type": "markdown",
      "metadata": {
        "id": "NsEnkN-sBMpL"
      },
      "source": [
        "## Freezando Pesos de Modelo Pretreinado"
      ]
    },
    {
      "cell_type": "code",
      "metadata": {
        "id": "HD8LOIQhv7xW"
      },
      "source": [
        "for param in pretrained_model.parameters():\n",
        "    param.requires_grad = False"
      ],
      "execution_count": 38,
      "outputs": []
    },
    {
      "cell_type": "markdown",
      "metadata": {
        "id": "pgfBW-cXvznz"
      },
      "source": [
        "## Preparando Tokenização do Dataset"
      ]
    },
    {
      "cell_type": "code",
      "metadata": {
        "id": "BjKWjf7TvjG0"
      },
      "source": [
        "#converte as palavras das sentenças em tokens e armazena em tensores\n",
        "#a saída é um tensor com duas partes:\n",
        "#input_ids: cada palavra é transformada em tokens na forma de tensores \n",
        "#attention_mask: vetor pra cada uma das sentenças informando quais tokens deve ser dado atenção pelo modelo\n",
        "\n",
        "\n",
        "X_train = tokenizer(X_train_original,\n",
        "                    #transforma todas as frases num tamanho padrão, equivalente ao da maior frase e preenche com zeros os valores restantes\n",
        "                    padding='max_length',\n",
        "                    truncation=True,\n",
        "                    return_tensors='pt').to(device)\n",
        "X_val = tokenizer(X_val_original,\n",
        "                  padding='max_length',\n",
        "                  truncation=True,\n",
        "                  return_tensors='pt').to(device)\n",
        "X_test = tokenizer(X_test_original,\n",
        "                  padding='max_length',\n",
        "                  truncation=True,\n",
        "                  return_tensors='pt').to(device)\n",
        "\n"
      ],
      "execution_count": 39,
      "outputs": []
    },
    {
      "cell_type": "code",
      "source": [
        "type(y_train)"
      ],
      "metadata": {
        "colab": {
          "base_uri": "https://localhost:8080/"
        },
        "id": "X5vq9NJi_0_1",
        "outputId": "5e0a60d2-7f06-4552-b824-9c66f630a982"
      },
      "execution_count": 40,
      "outputs": [
        {
          "output_type": "execute_result",
          "data": {
            "text/plain": [
              "list"
            ]
          },
          "metadata": {},
          "execution_count": 40
        }
      ]
    },
    {
      "cell_type": "code",
      "source": [
        "#converte as labels do dataset em tensores\n",
        "\n",
        "#Tensor() transforma os vetores no formato lista comum em tensor do pytorch\n",
        "#view(-1,1) transforma cada número dentro do tensor como sendo um tensor independente\n",
        "#to(device) envia os dados pra gpu\n",
        "\n",
        "y_train = torch.Tensor(y_train).view(-1, 1).to(device)\n",
        "y_val = torch.Tensor(y_val).view(-1, 1).to(device)\n",
        "y_test = torch.Tensor(y_test).view(-1, 1).to(device)"
      ],
      "metadata": {
        "id": "7-1DIGcK_0NG"
      },
      "execution_count": 41,
      "outputs": []
    },
    {
      "cell_type": "markdown",
      "metadata": {
        "id": "BK9Z7uCWub6r"
      },
      "source": [
        "## Definindo Modelo"
      ]
    },
    {
      "cell_type": "code",
      "metadata": {
        "id": "2b25g3CWuAGH"
      },
      "source": [
        "class SentimentModel(torch.nn.Module):\n",
        "    def __init__(self, pretrained_model):\n",
        "        super().__init__()\n",
        "\n",
        "        #parâmetros do modelo:\n",
        "\n",
        "        #modelo pré treinado é passado como parametro\n",
        "        self.pretrained_model = pretrained_model\n",
        "        #duas camadas densas do tipo linear\n",
        "        self.dense1           = torch.nn.Linear(in_features=512 * 768, out_features=1000)\n",
        "        #saída é 1 pois a classificação será entre positivo e negativo\n",
        "        self.dense2           = torch.nn.Linear(in_features=1000, out_features=1)\n",
        "        #elimina neuronios aleatóriamente, ajuda a evitar overfitting \n",
        "        self.dropout          = torch.nn.Dropout(0.2)\n",
        "        #funcão não linear relu\n",
        "        self.relu             = torch.nn.ReLU()\n",
        "        #função não linear sigmoide\n",
        "        self.sigmoid          = torch.nn.Sigmoid()\n",
        "\n",
        "    #método que define a ordem que os dados serão passados pelo modelo\n",
        "    def forward(self, X):\n",
        "        #modelo pré treinado recebe como entrada os tensores gerados pelo tokenizador\n",
        "        y_hat = self.pretrained_model(X['input_ids'], X['attention_mask'])\n",
        "        #transforma y_hat numa camada só\n",
        "        y_hat = y_hat[0].flatten(start_dim=1)\n",
        "        #camada densa\n",
        "        y_hat = self.dense1(y_hat)\n",
        "        y_hat = self.relu(y_hat)\n",
        "        y_hat = self.dropout(y_hat)\n",
        "        y_hat = self.dense2(y_hat)\n",
        "        y_hat = self.sigmoid(y_hat)\n",
        "        return y_hat"
      ],
      "execution_count": 42,
      "outputs": []
    },
    {
      "cell_type": "markdown",
      "metadata": {
        "id": "RzRgr00XyVgR"
      },
      "source": [
        "## Instanciar e Treinar o Modelo"
      ]
    },
    {
      "cell_type": "code",
      "metadata": {
        "colab": {
          "base_uri": "https://localhost:8080/"
        },
        "id": "xSQiiBatyURd",
        "outputId": "0ba8b36e-ed11-4b6e-c5f0-2e8783bd187d"
      },
      "source": [
        "#instancia o modelo\n",
        "sm = SentimentModel(pretrained_model).to(device)\n",
        "#entra no modo de treino\n",
        "##sm.train()\n",
        "\n",
        "\n",
        "epochs = 40\n",
        "\n",
        "#define a função de perda como sendo a classificação binária\n",
        "criterion = torch.nn.BCELoss()\n",
        "#define como otimizador o SGD\n",
        "optimizer = torch.optim.SGD(sm.parameters(), lr=0.0001)\n",
        "\n",
        "for epoch in range(epochs):\n",
        "    #seleciona o modo de treino\n",
        "    sm.train()\n",
        "    #zera os gradientes calculados até o momento\n",
        "    optimizer.zero_grad()\n",
        "    #executa o forward propagation\n",
        "    output = sm.forward(X_train)\n",
        "    #calcula a perda (como comparação entre output e y_train)\n",
        "    loss_train = criterion(output, y_train)\n",
        "    #calcula os gradientes - que serão utilizados pra reduzir a perda\n",
        "    loss_train.backward()\n",
        "    #aplica os gradientes (mudandos os pesos) pra mudar a loss\n",
        "    optimizer.step()\n",
        "\n",
        "    #usa os dados de validação pra avaliar como o modelo está se comportando\n",
        "    with torch.no_grad():\n",
        "        #seleciona o modo de avaliação\n",
        "        sm.eval()\n",
        "        output_val = sm.forward(X_val)\n",
        "        loss_val = criterion(output_val, y_val)\n",
        "\n",
        "\n",
        "    #printa o resultado do dados no treino e validação\n",
        "    print(f\"Epoch: {epoch}, Loss: {round(loss_train.item(), 4)}, Val. Loss: {round(loss_val.item(), 4)}\")"
      ],
      "execution_count": 43,
      "outputs": [
        {
          "output_type": "stream",
          "name": "stdout",
          "text": [
            "Epoch: 0, Loss: 0.723, Val. Loss: 0.5552\n",
            "Epoch: 1, Loss: 0.5442, Val. Loss: 0.4596\n",
            "Epoch: 2, Loss: 0.43, Val. Loss: 0.393\n",
            "Epoch: 3, Loss: 0.3503, Val. Loss: 0.3465\n",
            "Epoch: 4, Loss: 0.304, Val. Loss: 0.3116\n",
            "Epoch: 5, Loss: 0.2678, Val. Loss: 0.285\n",
            "Epoch: 6, Loss: 0.2322, Val. Loss: 0.2641\n",
            "Epoch: 7, Loss: 0.2072, Val. Loss: 0.2466\n",
            "Epoch: 8, Loss: 0.196, Val. Loss: 0.2324\n",
            "Epoch: 9, Loss: 0.1819, Val. Loss: 0.2203\n",
            "Epoch: 10, Loss: 0.1617, Val. Loss: 0.21\n",
            "Epoch: 11, Loss: 0.1569, Val. Loss: 0.2011\n",
            "Epoch: 12, Loss: 0.1537, Val. Loss: 0.1936\n",
            "Epoch: 13, Loss: 0.1314, Val. Loss: 0.1866\n",
            "Epoch: 14, Loss: 0.1251, Val. Loss: 0.1803\n",
            "Epoch: 15, Loss: 0.1258, Val. Loss: 0.1748\n",
            "Epoch: 16, Loss: 0.1134, Val. Loss: 0.1698\n",
            "Epoch: 17, Loss: 0.1127, Val. Loss: 0.1654\n",
            "Epoch: 18, Loss: 0.1056, Val. Loss: 0.1613\n",
            "Epoch: 19, Loss: 0.0912, Val. Loss: 0.1577\n",
            "Epoch: 20, Loss: 0.0979, Val. Loss: 0.1541\n",
            "Epoch: 21, Loss: 0.0898, Val. Loss: 0.1508\n",
            "Epoch: 22, Loss: 0.088, Val. Loss: 0.1478\n",
            "Epoch: 23, Loss: 0.0872, Val. Loss: 0.1449\n",
            "Epoch: 24, Loss: 0.0768, Val. Loss: 0.1423\n",
            "Epoch: 25, Loss: 0.0806, Val. Loss: 0.1399\n",
            "Epoch: 26, Loss: 0.0794, Val. Loss: 0.1376\n",
            "Epoch: 27, Loss: 0.0795, Val. Loss: 0.1354\n",
            "Epoch: 28, Loss: 0.0689, Val. Loss: 0.1334\n",
            "Epoch: 29, Loss: 0.073, Val. Loss: 0.1316\n",
            "Epoch: 30, Loss: 0.0727, Val. Loss: 0.1298\n",
            "Epoch: 31, Loss: 0.0712, Val. Loss: 0.128\n",
            "Epoch: 32, Loss: 0.0701, Val. Loss: 0.1264\n",
            "Epoch: 33, Loss: 0.0691, Val. Loss: 0.1248\n",
            "Epoch: 34, Loss: 0.0573, Val. Loss: 0.1234\n",
            "Epoch: 35, Loss: 0.0584, Val. Loss: 0.1221\n",
            "Epoch: 36, Loss: 0.0595, Val. Loss: 0.1208\n",
            "Epoch: 37, Loss: 0.0628, Val. Loss: 0.1196\n",
            "Epoch: 38, Loss: 0.0505, Val. Loss: 0.1185\n",
            "Epoch: 39, Loss: 0.0537, Val. Loss: 0.1174\n"
          ]
        }
      ]
    },
    {
      "cell_type": "markdown",
      "metadata": {
        "id": "IT_V1QSD_Bgn"
      },
      "source": [
        "## Testando Modelo"
      ]
    },
    {
      "cell_type": "code",
      "metadata": {
        "colab": {
          "base_uri": "https://localhost:8080/"
        },
        "id": "D6s-Fr-t_CuN",
        "outputId": "e2569ca2-814a-445f-dfe3-3b57e8cd1c85"
      },
      "source": [
        "\n",
        "#desabilita o cálculo de gradientes, pois será apenas utilização do modelo sem mudança dos pesos\n",
        "with torch.no_grad():\n",
        "    #seleciona o modo de avaliação\n",
        "    sm.eval()\n",
        "    output_test = sm.forward(X_test)\n",
        "    loss_test = criterion(output_test, y_test)\n",
        "\n",
        "#print(f\"Test Loss: {round(loss_test.item(), 4)}\\n\")\n",
        "\n",
        "print(f\"Exemplo Negativo:\\n{X_test_original[0]}\\n{output_test[0]}\\n\")\n",
        "print(f\"Exemplo Negativo:\\n{X_test_original[1]}\\n{output_test[1]}\\n\")\n",
        "print(f\"Exemplo Positivo:\\n{X_test_original[2]}\\n{output_test[2]}\\n\")\n",
        "print(f\"Exemplo Positivo:\\n{X_test_original[3]}\\n{output_test[3]}\\n\")\n",
        "print(f\"Exemplo Positivo:\\n{X_test_original[4]}\\n{output_test[4]}\\n\")"
      ],
      "execution_count": 47,
      "outputs": [
        {
          "output_type": "stream",
          "name": "stdout",
          "text": [
            "Exemplo Negativo:\n",
            "uneasy mishmash of styles and genres .\n",
            "tensor([0.0295], device='cuda:0')\n",
            "\n",
            "Exemplo Negativo:\n",
            "this film 's relationship to actual tension is the same as what christmas-tree flocking in a spray can is to actual snow : a poor -- if durable -- imitation .\n",
            "tensor([0.0350], device='cuda:0')\n",
            "\n",
            "Exemplo Positivo:\n",
            "by the end of no such thing the audience , like beatrice , has a watchful affection for the monster .\n",
            "tensor([0.6633], device='cuda:0')\n",
            "\n",
            "Exemplo Positivo:\n",
            "director rob marshall went out gunning to make a great one .\n",
            "tensor([0.9699], device='cuda:0')\n",
            "\n",
            "Exemplo Positivo:\n",
            "lathan and diggs have considerable personal charm , and their screen rapport makes the old story seem new .\n",
            "tensor([0.9475], device='cuda:0')\n",
            "\n"
          ]
        }
      ]
    }
  ]
}